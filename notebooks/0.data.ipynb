{
 "cells": [
  {
   "cell_type": "code",
   "execution_count": 1,
   "metadata": {},
   "outputs": [],
   "source": [
    "import numpy as np\n",
    "import pandas as pd\n",
    "import os"
   ]
  },
  {
   "cell_type": "code",
   "execution_count": 1,
   "metadata": {},
   "outputs": [
    {
     "name": "stdout",
     "output_type": "stream",
     "text": [
      "Lana Wachowski\n",
      "Lilly Wachowski\n",
      "['akas', 'animation department', 'art department', 'art directors', 'aspect ratio', 'assistant directors', 'box office', 'camera department', 'canonical title', 'cast', 'casting department', 'casting directors', 'certificates', 'cinematographers', 'color info', 'composers', 'costume departmen', 'costume designers', 'countries', 'country codes', 'cover url', 'director', 'directors', 'distributors', 'editorial department', 'editors', 'full-size cover url', 'genres', 'kind', 'language codes', 'languages', 'location management', 'long imdb canonical title', 'long imdb title', 'make up department', 'miscellaneous', 'music department', 'original air date', 'other companies', 'plot', 'plot outline', 'producers', 'production companies', 'production designers', 'production managers', 'rating', 'runtimes', 'script department', 'set decorators', 'smart canonical title', 'smart long imdb canonical title', 'sound department', 'sound mix', 'special effects', 'special effects companies', 'stunts', 'synopsis', 'title', 'top 250 rank', 'transportation department', 'visual effects', 'votes', 'writer', 'writers', 'year']\n",
      "['airing', 'akas', 'alternate versions', 'awards', 'connections', 'crazy credits', 'critic reviews', 'episodes', 'external reviews', 'external sites', 'faqs', 'full credits', 'goofs', 'keywords', 'locations', 'main', 'misc sites', 'news', 'official sites', 'parents guide', 'photo sites', 'plot', 'quotes', 'release dates', 'release info', 'reviews', 'sound clips', 'soundtrack', 'synopsis', 'taglines', 'technical', 'trivia', 'tv schedule', 'video clips', 'vote details']\n"
     ]
    }
   ],
   "source": [
    "# pip install IMDbPY\n",
    "# from imdb import IMDb\n",
    "\n",
    "# # create an instance of the IMDb class\n",
    "# ia = IMDb()\n",
    "\n",
    "# # get a movie and print its director(s)\n",
    "# the_matrix = ia.get_movie('0133093')\n",
    "# for director in the_matrix['directors']:\n",
    "#     print(director['name'])\n",
    "\n",
    "# # show all information that are currently available for a movie\n",
    "# print(sorted(the_matrix.keys()))\n",
    "\n",
    "# # show all information sets that can be fetched for a movie\n",
    "# print(ia.get_movie_infoset())"
   ]
  },
  {
   "cell_type": "code",
   "execution_count": 2,
   "metadata": {},
   "outputs": [],
   "source": [
    "from requests import get\n",
    "from bs4 import BeautifulSoup\n",
    "from time import sleep\n",
    "from time import time\n",
    "from random import randint\n",
    "from IPython.core.display import clear_output\n",
    "from warnings import warn\n",
    "\n",
    "headers = {\"Accept-Language\": \"en-US, en;q=0.5\"}"
   ]
  },
  {
   "cell_type": "code",
   "execution_count": 319,
   "metadata": {},
   "outputs": [
    {
     "name": "stdout",
     "output_type": "stream",
     "text": [
      "Request:75; Frequency: 0.07579557774754757 requests/s\n"
     ]
    }
   ],
   "source": [
    "##################\n",
    "# IMDB Data Scrape\n",
    "##################\n",
    "\n",
    "# Preparing the monitoring of the loop\n",
    "start_time = time()\n",
    "requests = 0\n",
    "\n",
    "# declaring the lists to store data in\n",
    "name = []\n",
    "year = []\n",
    "rating = []\n",
    "metascore = []\n",
    "vote = []\n",
    "imdb_id = []\n",
    "poster = []\n",
    "genre = []\n",
    "certificate = []\n",
    "runtime = []\n",
    "director_actor = []\n",
    "story = []\n",
    "\n",
    "# 12,653 Korean Movie/TV on IMDB - 254 Pages\n",
    "# pages = [i for i in range(0,90)]\n",
    "# pages = [i for i in range(90,180)]\n",
    "pages = [i for i in range(180,255)]\n",
    "\n",
    "# For every page in the interval 1-4\n",
    "for page in pages:\n",
    "\n",
    "    # Make a get request\n",
    "    response = get('http://www.imdb.com/search/title?country_of_origin=kr&start=' + str(page*50+1) +\n",
    "    '&ref_=adv_nxt', headers = headers)\n",
    "\n",
    "    # Pause the loop\n",
    "    sleep(randint(8,15))\n",
    "\n",
    "    # Monitor the requests\n",
    "    requests += 1\n",
    "    elapsed_time = time() - start_time\n",
    "    print('Request:{}; Frequency: {} requests/s'.format(requests, requests/elapsed_time))\n",
    "    clear_output(wait = True)\n",
    "\n",
    "    # Throw a warning for non-200 status codes\n",
    "    if response.status_code != 200:\n",
    "        warn('Request: {}; Status code: {}'.format(requests, response.status_code))\n",
    "\n",
    "    # Break the loop if the number of requests is greater than expected\n",
    "    if requests > 99:\n",
    "        warn('Number of requests was greater than expected.')\n",
    "        break\n",
    "\n",
    "    # Parse the content of the request with BeautifulSoup\n",
    "    page_html = BeautifulSoup(response.text, 'html.parser')\n",
    "\n",
    "    # Select all the 50 movie containers from a single page\n",
    "    mv_containers = page_html.find_all('div', class_ = 'lister-item mode-advanced')\n",
    "\n",
    "    # For every movie of these 50\n",
    "    for container in mv_containers:\n",
    "        # If the movie has a Metascore, then:\n",
    "        # if container.find('div', class_ = 'ratings-metascore') is not None:\n",
    "\n",
    "        # name\n",
    "        if container.h3.a:\n",
    "            name.append(container.h3.a.text)\n",
    "        else: name.append(np.nan)\n",
    "\n",
    "        # year\n",
    "        if container.h3.find('span', class_='lister-item-year'):\n",
    "            year.append(container.h3.find('span', class_='lister-item-year').text)\n",
    "        else: year.append(np.nan)\n",
    "\n",
    "        # IMDB rating\n",
    "        if container.strong:\n",
    "            rating.append(float(container.strong.text))\n",
    "        else: rating.append(np.nan)\n",
    "\n",
    "        # Metascore\n",
    "        if container.find('span', class_='metascore'):\n",
    "            metascore.append(int(container.find('span', class_='metascore').text))\n",
    "        else: metascore.append(np.nan)\n",
    "\n",
    "        # number of votes\n",
    "        if container.find('span', attrs={'name':'nv'}):\n",
    "            vote.append(int(container.find('span', attrs={'name':'nv'})['data-value'].replace(',','')))\n",
    "        else: vote.append(np.nan)\n",
    "\n",
    "        # movie id\n",
    "        if container.find('img').get('data-tconst'):\n",
    "            imdb_id.append(container.find('img').get('data-tconst'))\n",
    "        else: imdb_id.append(np.nan)\n",
    "\n",
    "        # poster link\n",
    "        if container.find('img').get('loadlate'):\n",
    "            poster.append(container.find('img').get('loadlate'))\n",
    "        else: poster.append(np.nan)\n",
    "\n",
    "        #Scrape the genre\n",
    "        if container.find('span',attrs={'class':'genre'}):\n",
    "            genre.append(container.find('span',attrs={'class':'genre'}).text)\n",
    "        else: genre.append(np.nan)\n",
    "\n",
    "        # certificate\n",
    "        if container.find('span',attrs={'class':'certificate'}):\n",
    "            certificate.append(container.find('span',attrs={'class':'certificate'}).text)\n",
    "        else: certificate.append(np.nan)\n",
    "\n",
    "        # runtime\n",
    "        if container.find('span',attrs={'class':'runtime'}):\n",
    "            runtime.append(container.find('span',attrs={'class':'runtime'}).text)\n",
    "        else: runtime.append(np.nan)\n",
    "\n",
    "        # director_actor\n",
    "        if container.find_all('p'):\n",
    "            director_actor.append(container.find_all('p')[2].text)\n",
    "        else: director_actor.append(np.nan)\n",
    "\n",
    "        # Scrape the story\n",
    "        if container.find_all('p'):\n",
    "            story.append(container.find_all('p')[1].text)\n",
    "        else: story.append(np.nan)"
   ]
  },
  {
   "cell_type": "code",
   "execution_count": 320,
   "metadata": {},
   "outputs": [
    {
     "name": "stdout",
     "output_type": "stream",
     "text": [
      "<class 'pandas.core.frame.DataFrame'>\n",
      "RangeIndex: 3750 entries, 0 to 3749\n",
      "Data columns (total 12 columns):\n",
      "name              3750 non-null object\n",
      "year              3750 non-null object\n",
      "rating            2682 non-null float64\n",
      "metascore         1155 non-null float64\n",
      "vote              2682 non-null float64\n",
      "imdb_id           3750 non-null object\n",
      "poster            3750 non-null object\n",
      "genre             3649 non-null object\n",
      "certificate       1762 non-null object\n",
      "runtime           3380 non-null object\n",
      "director_actor    3750 non-null object\n",
      "story             3750 non-null object\n",
      "dtypes: float64(3), object(9)\n",
      "memory usage: 351.6+ KB\n",
      "None\n"
     ]
    },
    {
     "data": {
      "text/html": [
       "<div>\n",
       "<style scoped>\n",
       "    .dataframe tbody tr th:only-of-type {\n",
       "        vertical-align: middle;\n",
       "    }\n",
       "\n",
       "    .dataframe tbody tr th {\n",
       "        vertical-align: top;\n",
       "    }\n",
       "\n",
       "    .dataframe thead th {\n",
       "        text-align: right;\n",
       "    }\n",
       "</style>\n",
       "<table border=\"1\" class=\"dataframe\">\n",
       "  <thead>\n",
       "    <tr style=\"text-align: right;\">\n",
       "      <th></th>\n",
       "      <th>name</th>\n",
       "      <th>year</th>\n",
       "      <th>rating</th>\n",
       "      <th>metascore</th>\n",
       "      <th>vote</th>\n",
       "      <th>imdb_id</th>\n",
       "      <th>poster</th>\n",
       "      <th>genre</th>\n",
       "      <th>certificate</th>\n",
       "      <th>runtime</th>\n",
       "      <th>director_actor</th>\n",
       "      <th>story</th>\n",
       "    </tr>\n",
       "  </thead>\n",
       "  <tbody>\n",
       "    <tr>\n",
       "      <th>0</th>\n",
       "      <td>Pickled Radishes</td>\n",
       "      <td>(1964)</td>\n",
       "      <td>NaN</td>\n",
       "      <td>NaN</td>\n",
       "      <td>NaN</td>\n",
       "      <td>tt0353299</td>\n",
       "      <td>https://m.media-amazon.com/images/G/01/imdb/im...</td>\n",
       "      <td>\\nDrama, Romance</td>\n",
       "      <td>NaN</td>\n",
       "      <td>100 min</td>\n",
       "      <td>\\n    Director:\\nIl-Ho Jang\\n| \\n    Stars:\\nS...</td>\n",
       "      <td>\\n    Two childhood friends look for suitable ...</td>\n",
       "    </tr>\n",
       "    <tr>\n",
       "      <th>1</th>\n",
       "      <td>A Man's World</td>\n",
       "      <td>(I) (2012)</td>\n",
       "      <td>NaN</td>\n",
       "      <td>NaN</td>\n",
       "      <td>NaN</td>\n",
       "      <td>tt2398113</td>\n",
       "      <td>https://m.media-amazon.com/images/M/MV5BMjIzNT...</td>\n",
       "      <td>NaN</td>\n",
       "      <td>NaN</td>\n",
       "      <td>NaN</td>\n",
       "      <td>\\n    Director:\\nThomas Maitland\\n| \\n    Star...</td>\n",
       "      <td>\\n    A father and his son navigate the mores ...</td>\n",
       "    </tr>\n",
       "    <tr>\n",
       "      <th>2</th>\n",
       "      <td>LYN: The Lightbringer</td>\n",
       "      <td>(2019 Video Game)</td>\n",
       "      <td>NaN</td>\n",
       "      <td>NaN</td>\n",
       "      <td>NaN</td>\n",
       "      <td>tt10980800</td>\n",
       "      <td>https://m.media-amazon.com/images/G/01/imdb/im...</td>\n",
       "      <td>\\nAnimation, Action, Adventure</td>\n",
       "      <td>NaN</td>\n",
       "      <td>NaN</td>\n",
       "      <td>\\n            \\n    Stars:\\nKira Buckland, \\nT...</td>\n",
       "      <td>\\n    Light and Darkness came into conflict on...</td>\n",
       "    </tr>\n",
       "    <tr>\n",
       "      <th>3</th>\n",
       "      <td>Traitor Shanghia Park</td>\n",
       "      <td>(1965)</td>\n",
       "      <td>NaN</td>\n",
       "      <td>NaN</td>\n",
       "      <td>NaN</td>\n",
       "      <td>tt0326748</td>\n",
       "      <td>https://m.media-amazon.com/images/G/01/imdb/im...</td>\n",
       "      <td>NaN</td>\n",
       "      <td>NaN</td>\n",
       "      <td>NaN</td>\n",
       "      <td>\\n    Director:\\nWon-jik Lim\\n| \\n    Stars:\\n...</td>\n",
       "      <td>\\n    A Korean man works for the Japanese colo...</td>\n",
       "    </tr>\n",
       "    <tr>\n",
       "      <th>4</th>\n",
       "      <td>Yegichi mothan sarang</td>\n",
       "      <td>(1965)</td>\n",
       "      <td>NaN</td>\n",
       "      <td>NaN</td>\n",
       "      <td>NaN</td>\n",
       "      <td>tt0410923</td>\n",
       "      <td>https://m.media-amazon.com/images/G/01/imdb/im...</td>\n",
       "      <td>\\nDrama, Romance</td>\n",
       "      <td>NaN</td>\n",
       "      <td>NaN</td>\n",
       "      <td>\\n    Director:\\nJong-ho Park\\n| \\n    Stars:\\...</td>\n",
       "      <td>\\n    Kyeong-rim falls in love with an older m...</td>\n",
       "    </tr>\n",
       "  </tbody>\n",
       "</table>\n",
       "</div>"
      ],
      "text/plain": [
       "                    name               year  rating  metascore  vote  \\\n",
       "0       Pickled Radishes             (1964)     NaN        NaN   NaN   \n",
       "1          A Man's World         (I) (2012)     NaN        NaN   NaN   \n",
       "2  LYN: The Lightbringer  (2019 Video Game)     NaN        NaN   NaN   \n",
       "3  Traitor Shanghia Park             (1965)     NaN        NaN   NaN   \n",
       "4  Yegichi mothan sarang             (1965)     NaN        NaN   NaN   \n",
       "\n",
       "      imdb_id                                             poster  \\\n",
       "0   tt0353299  https://m.media-amazon.com/images/G/01/imdb/im...   \n",
       "1   tt2398113  https://m.media-amazon.com/images/M/MV5BMjIzNT...   \n",
       "2  tt10980800  https://m.media-amazon.com/images/G/01/imdb/im...   \n",
       "3   tt0326748  https://m.media-amazon.com/images/G/01/imdb/im...   \n",
       "4   tt0410923  https://m.media-amazon.com/images/G/01/imdb/im...   \n",
       "\n",
       "                                        genre certificate  runtime  \\\n",
       "0                \\nDrama, Romance                     NaN  100 min   \n",
       "1                                         NaN         NaN      NaN   \n",
       "2  \\nAnimation, Action, Adventure                     NaN      NaN   \n",
       "3                                         NaN         NaN      NaN   \n",
       "4                \\nDrama, Romance                     NaN      NaN   \n",
       "\n",
       "                                      director_actor  \\\n",
       "0  \\n    Director:\\nIl-Ho Jang\\n| \\n    Stars:\\nS...   \n",
       "1  \\n    Director:\\nThomas Maitland\\n| \\n    Star...   \n",
       "2  \\n            \\n    Stars:\\nKira Buckland, \\nT...   \n",
       "3  \\n    Director:\\nWon-jik Lim\\n| \\n    Stars:\\n...   \n",
       "4  \\n    Director:\\nJong-ho Park\\n| \\n    Stars:\\...   \n",
       "\n",
       "                                               story  \n",
       "0  \\n    Two childhood friends look for suitable ...  \n",
       "1  \\n    A father and his son navigate the mores ...  \n",
       "2  \\n    Light and Darkness came into conflict on...  \n",
       "3  \\n    A Korean man works for the Japanese colo...  \n",
       "4  \\n    Kyeong-rim falls in love with an older m...  "
      ]
     },
     "execution_count": 320,
     "metadata": {},
     "output_type": "execute_result"
    }
   ],
   "source": [
    "# Assemble movie rating table\n",
    "movie_ratings = pd.DataFrame({'name': name,\n",
    "                              'year': year,\n",
    "                              'rating': rating,\n",
    "                              'metascore': metascore,\n",
    "                              'vote': vote,\n",
    "                              'imdb_id': imdb_id,\n",
    "                              'poster': poster,\n",
    "                              'genre': genre,\n",
    "                              'certificate': certificate,\n",
    "                              'runtime': runtime,\n",
    "                              'director_actor': director_actor,\n",
    "                              'story': story\n",
    "                             })\n",
    "print(movie_ratings.info())\n",
    "movie_ratings.head()"
   ]
  },
  {
   "cell_type": "code",
   "execution_count": 401,
   "metadata": {},
   "outputs": [
    {
     "data": {
      "text/plain": [
       "12750"
      ]
     },
     "execution_count": 401,
     "metadata": {},
     "output_type": "execute_result"
    }
   ],
   "source": [
    "# movie_ratings.to_csv('movie_ratings_1_4500.csv', encoding='utf-8-sig')\n",
    "# movie_ratings_1_4500 = movie_ratings\n",
    "\n",
    "# movie_ratings.to_csv('movie_ratings_4501_9000.csv', encoding='utf-8-sig')\n",
    "# movie_ratings_4501_9000 = movie_ratings\n",
    "\n",
    "# movie_ratings.to_csv('movie_ratings_9001_12750.csv', encoding='utf-8-sig')\n",
    "# movie_ratings_9001_12750 = movie_ratings\n",
    "\n",
    "# imdb_kr = movie_ratings_1_4500\n",
    "# imdb_kr = imdb_kr.append(movie_ratings_4501_9000, ignore_index=True)\n",
    "# imdb_kr = imdb_kr.append(movie_ratings_9001_12750, ignore_index=True)\n",
    "\n",
    "# # remove duplicate by imdb_id\n",
    "# imdb_kr.sort_values(\"imdb_id\",inplace=True)\n",
    "# imdb_kr.drop_duplicates(subset=\"imdb_id\",inplace=True)\n",
    "# len(imdb_kr)"
   ]
  },
  {
   "cell_type": "code",
   "execution_count": 414,
   "metadata": {},
   "outputs": [],
   "source": [
    "# # create numeric imdb id\n",
    "# imdb_kr['imdbId'] = imdb_kr['imdb_id'].apply(lambda s:int(s[2:]))\n",
    "\n",
    "# # raw data path\n",
    "# data_raw_p = os.path.abspath('../data/raw')\n",
    "\n",
    "# # save a csv copy and a pickle copy to raw data path\n",
    "# imdb_kr.to_csv(data_raw_p+'/imdb_kr.csv', index=False, header=True, encoding='utf-8-sig')\n",
    "# imdb_kr.to_pickle(data_raw_p+'/imdb_kr.pickle')"
   ]
  },
  {
   "cell_type": "code",
   "execution_count": 48,
   "metadata": {},
   "outputs": [],
   "source": [
    "#######################\n",
    "# connect to SQL engine\n",
    "#######################\n",
    "from sqlalchemy import create_engine, event\n",
    "from sqlalchemy_utils import database_exists, create_database\n",
    "import psycopg2\n",
    "\n",
    "engine = create_engine('postgresql://happyt3@localhost/mediaquant')\n",
    "\n",
    "# declare a new PostgreSQL connection object\n",
    "conn = psycopg2.connect(\n",
    "    dbname = \"mediaquant\",\n",
    "    user = \"happyt3\",\n",
    "    host = \"localhost\")\n",
    "\n",
    "# @event.listens_for(engine, 'before_cursor_execute')\n",
    "# def receive_before_cursor_execute(connection, cursor, statement, params, context, executemany):\n",
    "#     # print(\"FUNC call\")\n",
    "#     if executemany:\n",
    "#         cursor.fast_executemany = True\n",
    "#         cursor.commit()\n",
    "        \n",
    "def execute_query(connection, query):\n",
    "    connection.autocommit = True\n",
    "    cursor = connection.cursor()\n",
    "    try:\n",
    "        cursor.execute(query)\n",
    "        print(\"Query executed successfully\")\n",
    "    except OperationalError as e:\n",
    "        print(f\"The error '{e}' occurred\")"
   ]
  },
  {
   "cell_type": "code",
   "execution_count": 49,
   "metadata": {},
   "outputs": [
    {
     "name": "stdout",
     "output_type": "stream",
     "text": [
      "schema: information_schema\n",
      "Table: sql_packages\n",
      "Table: sql_features\n",
      "Table: sql_implementation_info\n",
      "Table: sql_parts\n",
      "Table: sql_languages\n",
      "Table: sql_sizing\n",
      "Table: sql_sizing_profiles\n",
      "schema: public\n",
      "Table: imdb_kr\n",
      "Table: ml_links\n",
      "Table: youtube_movie_trailer_comments\n",
      "Table: ml_ratings\n",
      "Table: ml_ratings_temp\n"
     ]
    }
   ],
   "source": [
    "from sqlalchemy import inspect\n",
    "inspector = inspect(engine)\n",
    "schemas = inspector.get_schema_names()\n",
    "\n",
    "for schema in schemas:\n",
    "    print(\"schema: %s\" % schema)\n",
    "    for table_name in inspector.get_table_names(schema=schema):\n",
    "        print(\"Table: %s\" % table_name)\n",
    "#         for column in inspector.get_columns(table_name, schema=schema):\n",
    "#             print(\"Column: %s\" % column)"
   ]
  },
  {
   "cell_type": "code",
   "execution_count": 9,
   "metadata": {},
   "outputs": [
    {
     "data": {
      "text/plain": [
       "<sqlalchemy.engine.result.ResultProxy at 0x11c1833c8>"
      ]
     },
     "execution_count": 9,
     "metadata": {},
     "output_type": "execute_result"
    }
   ],
   "source": [
    "# engine.execute(\"DROP TABLE IF EXISTS ml_ratings_temp\")\n",
    "# engine.execute(\"DROP TABLE IF EXISTS ml_ratings\")"
   ]
  },
  {
   "cell_type": "code",
   "execution_count": 15,
   "metadata": {},
   "outputs": [],
   "source": [
    "# # create imdb_kr_table\n",
    "# create_imdb_kr_table = \"\"\"\n",
    "# CREATE TABLE IF NOT EXISTS imdb_kr (\n",
    "#   name TEXT NOT NULL,\n",
    "#   year TEXT,\n",
    "#   rating FLOAT,\n",
    "#   metascore FLOAT,\n",
    "#   vote FLOAT,\n",
    "#   imdb_id TEXT,\n",
    "#   poster TEXT,\n",
    "#   genre TEXT,\n",
    "#   certificate TEXT,\n",
    "#   runtime TEXT,\n",
    "#   director_actor TEXT,\n",
    "#   story TEXT,\n",
    "#   imdbId INTEGER\n",
    "# )\n",
    "# \"\"\"\n",
    "# execute_query(conn, create_imdb_kr_table)\n",
    "\n",
    "# # create a temp table\n",
    "# imdb_kr.to_sql('imdb_kr_temp', con=engine, if_exists='replace', index=False)\n",
    "\n",
    "# # insert rows from the temp table\n",
    "# engine.execute(\"\"\"\n",
    "# INSERT INTO imdb_kr (name,year,rating,metascore,vote,imdb_id,poster,genre,certificate,runtime,director_actor,story,imdbId)\n",
    "# SELECT DISTINCT *\n",
    "# FROM imdb_kr_temp;\n",
    "# \"\"\")\n",
    "\n",
    "# # drop table\n",
    "# engine.execute(\"DROP TABLE IF EXISTS imdb_kr_temp\")\n",
    "\n",
    "# # rename table\n",
    "# engine.execute(\"ALTER TABLE imdb RENAME TO imdb_kr_backup\")"
   ]
  },
  {
   "cell_type": "code",
   "execution_count": 12,
   "metadata": {},
   "outputs": [
    {
     "data": {
      "text/plain": [
       "[(10000,)]"
      ]
     },
     "execution_count": 12,
     "metadata": {},
     "output_type": "execute_result"
    }
   ],
   "source": [
    "# count movie id\n",
    "engine.execute(\"SELECT count(*) as count FROM imdb_kr\").fetchall()"
   ]
  },
  {
   "cell_type": "code",
   "execution_count": 11,
   "metadata": {},
   "outputs": [],
   "source": [
    "################\n",
    "# MovieLens Data\n",
    "################\n",
    "\n",
    "# MovieLens 25M Dataset\n",
    "# MovieLens 25M movie ratings. Stable benchmark dataset. 25 million ratings and one million tag applications applied to 62,000 movies by 162,000 users. Includes tag genome data with 15 million relevance scores across 1,129 tags. Released 12/2019\n",
    "\n",
    "# README.txt\n",
    "# ml-25m.zip (size: 250 MB, checksum)\n",
    "# Permalink: https://grouplens.org/datasets/movielens/25m/\n",
    "movielens25m_p = os.path.abspath('../data/raw/ml-25m') # MovieLens 25M Dataset"
   ]
  },
  {
   "cell_type": "code",
   "execution_count": 450,
   "metadata": {},
   "outputs": [
    {
     "name": "stdout",
     "output_type": "stream",
     "text": [
      "Query executed successfully\n"
     ]
    }
   ],
   "source": [
    "# # create MovieLens IMDB links table\n",
    "# create_ml_links_table = \"\"\"\n",
    "# CREATE TABLE IF NOT EXISTS ml_links (\n",
    "#   movieId INTEGER,\n",
    "#   imdbId INTEGER,\n",
    "#   tmdbId FLOAT\n",
    "# )\n",
    "# \"\"\"\n",
    "# execute_query(conn, create_ml_links_table)\n",
    "\n",
    "# ml_links = pd.read_csv(movielens25m_p+'/links.csv')\n",
    "# # create a temp sql table\n",
    "# ml_links.to_sql('ml_links_temp', con=engine, if_exists='replace', index=False)\n",
    "# # copy rows from ml_links_temp to ml_links\n",
    "# engine.execute(\"\"\"\n",
    "# INSERT INTO ml_links (movieId,imdbId,tmdbId)\n",
    "# SELECT DISTINCT *\n",
    "# FROM ml_links_temp;\n",
    "# \"\"\")\n",
    "\n",
    "# # count movie id\n",
    "# engine.execute(\"SELECT count(*) as count FROM ml_links\").fetchall()\n",
    "# engine.execute(\"DROP TABLE IF EXISTS ml_links_temp\")"
   ]
  },
  {
   "cell_type": "code",
   "execution_count": 16,
   "metadata": {},
   "outputs": [
    {
     "name": "stdout",
     "output_type": "stream",
     "text": [
      "Query executed successfully\n"
     ]
    }
   ],
   "source": [
    "# create MovieLens ratings table\n",
    "create_ml_ratings_table = \"\"\"\n",
    "CREATE TABLE IF NOT EXISTS ml_ratings (\n",
    "  userId INTEGER,\n",
    "  movieId INTEGER,\n",
    "  rating FLOAT,\n",
    "  timestamp INTEGER\n",
    ")\n",
    "\"\"\"\n",
    "execute_query(conn, create_ml_ratings_table)\n",
    "\n",
    "ml_ratings = pd.read_csv(movielens25m_p+'/ratings.csv')"
   ]
  },
  {
   "cell_type": "code",
   "execution_count": 45,
   "metadata": {},
   "outputs": [
    {
     "data": {
      "text/plain": [
       "25000000"
      ]
     },
     "execution_count": 45,
     "metadata": {},
     "output_type": "execute_result"
    }
   ],
   "source": [
    "# keep 25M ratings\n",
    "ml_ratings.drop(ml_ratings.index[25000000:], inplace=True)\n",
    "chunks = np.split(ml_ratings, ml_ratings.shape[0] / 10**6)"
   ]
  },
  {
   "cell_type": "code",
   "execution_count": null,
   "metadata": {},
   "outputs": [],
   "source": [
    "# create a temp sql table\n",
    "# ml_ratings.to_sql('ml_ratings_temp', con=engine, if_exists='replace', index=False) # too slow\n",
    "# ml_ratings.to_sql('ml_ratings_temp', con=engine, if_exists='replace', index=False,\n",
    "#                   chunksize=500000, method='multi')\n",
    "\n",
    "# def write_df_to_sql(df, **kwargs):\n",
    "#     chunks = np.split(df, df.shape[0] / 10**6)\n",
    "#     for chunk in chunks:\n",
    "#         chunk.to_sql(**kwargs)\n",
    "#     return True\n",
    "\n",
    "# write_df_to_sql(ml_ratings, 'ml_ratings_temp', con=engine, if_exists='replace', index=False)\n",
    "\n",
    "for chunk in chunks:\n",
    "    chunk.to_sql('ml_ratings_temp', con=engine, if_exists='append', index=False)"
   ]
  },
  {
   "cell_type": "code",
   "execution_count": 51,
   "metadata": {},
   "outputs": [
    {
     "data": {
      "text/plain": [
       "[(0,)]"
      ]
     },
     "execution_count": 51,
     "metadata": {},
     "output_type": "execute_result"
    }
   ],
   "source": [
    "engine.execute(\"SELECT count(*) as count FROM ml_ratings\").fetchall()"
   ]
  },
  {
   "cell_type": "code",
   "execution_count": null,
   "metadata": {},
   "outputs": [],
   "source": [
    "# copy rows from ml_ratings_temp to ml_ratings\n",
    "engine.execute(\"\"\"\n",
    "INSERT INTO ml_ratings (userId,movieId,rating,timestamp)\n",
    "SELECT DISTINCT *\n",
    "FROM ml_ratings_temp;\n",
    "\"\"\")\n",
    "\n",
    "# count movie id\n",
    "engine.execute(\"SELECT count(*) as count FROM ml_ratings\").fetchall()\n",
    "engine.execute(\"DROP TABLE IF EXISTS ml_ratings_temp\")"
   ]
  }
 ],
 "metadata": {
  "kernelspec": {
   "display_name": "Python 3",
   "language": "python",
   "name": "python3"
  },
  "language_info": {
   "codemirror_mode": {
    "name": "ipython",
    "version": 3
   },
   "file_extension": ".py",
   "mimetype": "text/x-python",
   "name": "python",
   "nbconvert_exporter": "python",
   "pygments_lexer": "ipython3",
   "version": "3.7.3"
  }
 },
 "nbformat": 4,
 "nbformat_minor": 2
}
