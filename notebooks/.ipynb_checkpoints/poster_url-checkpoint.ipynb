{
 "cells": [
  {
   "cell_type": "code",
   "execution_count": 5,
   "metadata": {},
   "outputs": [],
   "source": [
    "import csv\n",
    "import urllib.request\n",
    "from bs4 import BeautifulSoup\n",
    "\n",
    "row_names = ['movie_id', 'movie_url']\n",
    "with open('movie_url.csv', 'r', newline='') as in_csv:\n",
    "    reader = csv.DictReader(in_csv, fieldnames=row_names, delimiter=',')\n",
    "    for row in reader:\n",
    "        movie_id = row['movie_id']\n",
    "        movie_url = row['movie_url']\n",
    "        domain = 'http://www.imdb.com'\n",
    "        with urllib.request.urlopen(movie_url) as response:\n",
    "            html = response.read()\n",
    "            soup = BeautifulSoup(html, 'html.parser')\n",
    "            # Get url of poster image\n",
    "            try:\n",
    "                image_url = soup.find('div', class_='poster').a.img['src']\n",
    "                # TODO: Replace hardcoded extension with extension from string itself\n",
    "                extension = '.jpg'\n",
    "                image_url = ''.join(image_url.partition('_')[0]) + extension\n",
    "                filename = 'posters/' + movie_id + extension\n",
    "                with urllib.request.urlopen(image_url) as response:\n",
    "                    with open(filename, 'wb') as out_image:\n",
    "                        out_image.write(response.read())\n",
    "                    with open('movie_poster.csv', 'a', newline='') as out_csv:\n",
    "                        writer = csv.writer(out_csv, delimiter=',')\n",
    "                        writer.writerow([movie_id, image_url])\n",
    "            # Ignore cases where no poster image is present\n",
    "            except AttributeError:\n",
    "                pass"
   ]
  },
  {
   "cell_type": "code",
   "execution_count": null,
   "metadata": {},
   "outputs": [],
   "source": []
  }
 ],
 "metadata": {
  "kernelspec": {
   "display_name": "Python 3",
   "language": "python",
   "name": "python3"
  },
  "language_info": {
   "codemirror_mode": {
    "name": "ipython",
    "version": 3
   },
   "file_extension": ".py",
   "mimetype": "text/x-python",
   "name": "python",
   "nbconvert_exporter": "python",
   "pygments_lexer": "ipython3",
   "version": "3.7.3"
  }
 },
 "nbformat": 4,
 "nbformat_minor": 2
}
